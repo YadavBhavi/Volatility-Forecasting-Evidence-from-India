{
  "cells": [
    {
      "cell_type": "code",
      "execution_count": null,
      "metadata": {
        "id": "P5H7QAoC2iFr"
      },
      "outputs": [],
      "source": [
        "import numpy as np\n",
        "import pandas as pd\n",
        "# import tensorflow as tf\n",
        "from tensorflow.keras.models import Sequential\n",
        "from tensorflow.keras.layers import LSTM, Dense\n",
        "from sklearn.preprocessing import minmax_scale"
      ]
    },
    {
      "cell_type": "code",
      "execution_count": null,
      "metadata": {
        "id": "LLbR9Ryq2nu4"
      },
      "outputs": [],
      "source": [
        "# Load the 5-year time series data of 8 variables into a pandas DataFrame\n",
        "df = pd.read_csv('vix_data.csv')\n",
        "df['Date'] = pd.to_datetime(df['Date'], format = '%d/%m/%Y')\n",
        "df=df.fillna(method='bfill')\n",
        "df = df.drop(['Date','(R1) Open', '(R1) High', '(R1) Low'], axis=1)"
      ]
    },
    {
      "cell_type": "code",
      "execution_count": null,
      "metadata": {
        "id": "aBOOJ7sr2pEk"
      },
      "outputs": [],
      "source": [
        "# Normalize the data using MinMaxScaler\n",
        "#scaler = MinMaxScaler(feature_range=(0, 1))\n",
        "#data = scaler.fit_transform(df.values)\n",
        "\n",
        "cols = [x for x in df.columns if x != 'NIFTY 30d volatility']\n",
        "df[cols] = minmax_scale(df[cols])\n",
        "df.drop(index=df.index[0], axis=0, inplace=True)\n",
        "data = df.values"
      ]
    },
    {
      "cell_type": "code",
      "execution_count": null,
      "metadata": {
        "colab": {
          "base_uri": "https://localhost:8080/"
        },
        "id": "9rWlmzbuvFnX",
        "outputId": "eb1580d6-08e0-4964-edc5-46222e4b939f"
      },
      "outputs": [],
      "source": [
        "df.iloc[0]"
      ]
    },
    {
      "cell_type": "code",
      "execution_count": null,
      "metadata": {
        "colab": {
          "base_uri": "https://localhost:8080/"
        },
        "id": "A2VyjQMF58D1",
        "outputId": "b57d8a28-9481-4472-aee9-0f38e7337615"
      },
      "outputs": [],
      "source": [
        "data.shape"
      ]
    },
    {
      "cell_type": "markdown",
      "metadata": {
        "id": "Dqv4-MBx6DA6"
      },
      "source": [
        "Total  = 1238 * 8\n",
        "\n",
        "Input length  = 400 * 8\n",
        "\n",
        "Output length  = 7 * 1 : VIX for next week\n",
        "\n",
        "We are taking data of last 400 days to predict next 7 days VIX\n",
        "\n",
        "For training we will make overlaping training samples shifted by 'n_shift' values"
      ]
    },
    {
      "cell_type": "code",
      "execution_count": null,
      "metadata": {
        "id": "FkE6u7QNJCS1"
      },
      "outputs": [],
      "source": [
        "# Create input-output pairs from the data\n",
        "timesteps = 400 # number of timesteps in the input sequence (1 year)\n",
        "features = 8 # number of features in each timestep\n",
        "output_timesteps = 7 # number of timesteps in the output sequence (7 days)\n",
        "n_shift = 50\n",
        "X, y = [], []\n",
        "for i in range(len(data) - timesteps - output_timesteps + 1):\n",
        "  if i%n_shift==0:\n",
        "      X.append(data[i:i+timesteps, :features])\n",
        "      y.append(data[i+timesteps:i+timesteps+output_timesteps, 2])\n"
      ]
    },
    {
      "cell_type": "code",
      "execution_count": null,
      "metadata": {
        "id": "AIQt2gcb8tvw"
      },
      "outputs": [],
      "source": [
        "# Convert the input-output pairs to numpy arrays\n",
        "X = np.array(X)\n",
        "y = np.array(y)"
      ]
    },
    {
      "cell_type": "code",
      "execution_count": null,
      "metadata": {
        "colab": {
          "base_uri": "https://localhost:8080/"
        },
        "id": "sYkae7zU9Iry",
        "outputId": "a3abc05f-2dc8-47c5-e282-3ca66647d823"
      },
      "outputs": [],
      "source": [
        "X.shape"
      ]
    },
    {
      "cell_type": "code",
      "execution_count": null,
      "metadata": {
        "colab": {
          "base_uri": "https://localhost:8080/"
        },
        "id": "YeiBAwz_9NC-",
        "outputId": "68d2495a-a3e1-4fc6-8010-9cc0847b3084"
      },
      "outputs": [],
      "source": [
        "y.shape"
      ]
    },
    {
      "cell_type": "code",
      "execution_count": null,
      "metadata": {
        "id": "2PMbqZlM6CiC"
      },
      "outputs": [],
      "source": [
        "# Split the data into training and testing sets\n",
        "train_size = 10\n",
        "X_train, X_test = X[:train_size], X[train_size:]\n",
        "y_train, y_test = y[:train_size], y[train_size:]"
      ]
    },
    {
      "cell_type": "code",
      "execution_count": null,
      "metadata": {
        "colab": {
          "base_uri": "https://localhost:8080/"
        },
        "id": "Y8K5e1fT-MYD",
        "outputId": "553457fb-dacd-4d64-d5e7-f26be839b97a"
      },
      "outputs": [],
      "source": [
        "n_timesteps, n_features, n_outputs = X_train.shape[1], X_train.shape[2], y_train.shape[1]\n",
        "n_timesteps, n_features, n_outputs"
      ]
    },
    {
      "cell_type": "code",
      "execution_count": null,
      "metadata": {
        "id": "bNfNmJCNtYgS"
      },
      "outputs": [],
      "source": [
        "# Define the model\n",
        "callback = tf.keras.callbacks.EarlyStopping(monitor='loss', patience=10)\n",
        "model = Sequential()\n",
        "model.add(LSTM(128, input_shape=(n_timesteps, n_features)))\n",
        "# model.add(Dropout(0.5))\n",
        "model.add(Dense(64))\n",
        "model.add(Dense(n_outputs))\n",
        "# Compile the model\n",
        "model.compile(optimizer='adam', loss='mean_squared_error')\n"
      ]
    },
    {
      "cell_type": "code",
      "execution_count": null,
      "metadata": {
        "colab": {
          "base_uri": "https://localhost:8080/"
        },
        "id": "OZp7rDPbA5jL",
        "outputId": "09dd0e48-27d7-4444-ff57-e8b4dc613681"
      },
      "outputs": [],
      "source": [
        "# Train the model on the training data\n",
        "model.fit(X_train, y_train, epochs=100, batch_size=1, verbose=2, callbacks=[callback])"
      ]
    },
    {
      "cell_type": "code",
      "execution_count": null,
      "metadata": {
        "colab": {
          "base_uri": "https://localhost:8080/"
        },
        "id": "xJSj4AmQu8cM",
        "outputId": "19fd9e6b-47ac-4582-96ef-b9a0d1b7866c"
      },
      "outputs": [],
      "source": [
        "# Evaluate the model on the test data\n",
        "test_loss = model.evaluate(X_test, y_test)\n",
        "print(f'Test loss: {test_loss}')\n",
        "\n",
        "# Use the trained model to make predictions\n",
        "predictions = model.predict(X_test)"
      ]
    },
    {
      "cell_type": "code",
      "execution_count": null,
      "metadata": {
        "colab": {
          "base_uri": "https://localhost:8080/"
        },
        "id": "xuBCuJbVI6pl",
        "outputId": "250b5d98-5421-41de-ccbe-a8e07f0bfd4c"
      },
      "outputs": [],
      "source": [
        "predictions.shape"
      ]
    },
    {
      "cell_type": "code",
      "execution_count": null,
      "metadata": {
        "colab": {
          "base_uri": "https://localhost:8080/"
        },
        "id": "Ao3xc6XuMPup",
        "outputId": "b568e36a-9fcd-4f1b-8a28-bd75695c48a7"
      },
      "outputs": [],
      "source": [
        "predictions"
      ]
    },
    {
      "cell_type": "code",
      "execution_count": null,
      "metadata": {
        "colab": {
          "base_uri": "https://localhost:8080/"
        },
        "id": "_u7utkoeJmOU",
        "outputId": "8deea880-4453-46ef-e0e4-17bbd8232ff9"
      },
      "outputs": [],
      "source": [
        "y_test"
      ]
    },
    {
      "cell_type": "code",
      "execution_count": null,
      "metadata": {
        "colab": {
          "base_uri": "https://localhost:8080/"
        },
        "id": "BtsFMwZaJrOU",
        "outputId": "3514ff1f-e7a2-4658-9f47-c739ac97d7df"
      },
      "outputs": [],
      "source": [
        "(np.abs(predictions-y_test)).mean()"
      ]
    },
    {
      "cell_type": "code",
      "execution_count": null,
      "metadata": {
        "id": "baWvbb-eEgoB"
      },
      "outputs": [],
      "source": []
    }
  ],
  "metadata": {
    "accelerator": "GPU",
    "colab": {
      "provenance": []
    },
    "gpuClass": "standard",
    "kernelspec": {
      "display_name": "Python 3",
      "name": "python3"
    },
    "language_info": {
      "codemirror_mode": {
        "name": "ipython",
        "version": 3
      },
      "file_extension": ".py",
      "mimetype": "text/x-python",
      "name": "python",
      "nbconvert_exporter": "python",
      "pygments_lexer": "ipython3",
      "version": "3.8.9"
    }
  },
  "nbformat": 4,
  "nbformat_minor": 0
}
